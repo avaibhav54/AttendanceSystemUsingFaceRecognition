{
 "cells": [
  {
   "cell_type": "code",
   "execution_count": 2,
   "metadata": {},
   "outputs": [
    {
     "name": "stdout",
     "output_type": "stream",
     "text": [
      "Loading face embeddings...\n",
      "Encoding labels...\n",
      "Training model...\n"
     ]
    }
   ],
   "source": [
    "from sklearn.preprocessing import LabelEncoder\n",
    "from sklearn.svm import SVC\n",
    "import pickle\n",
    "\n",
    "#initilizing of embedding & recognizer\n",
    "embeddingFile = \"output/embeddings.pickle\"\n",
    "#New & Empty at initial\n",
    "recognizerFile = \"output/recognizer.pickle\"\n",
    "labelEncFile = \"output/le.pickle\"\n",
    "\n",
    "print(\"Loading face embeddings...\")\n",
    "data = pickle.loads(open(embeddingFile, \"rb\").read())\n",
    "\n",
    "print(\"Encoding labels...\")\n",
    "labelEnc = LabelEncoder()\n",
    "labels = labelEnc.fit_transform(data[\"names\"])\n",
    "\n",
    "\n",
    "print(\"Training model...\")\n",
    "recognizer = SVC(C=1.0, kernel=\"linear\", probability=True)\n",
    "recognizer.fit(data[\"embeddings\"], labels)\n",
    "\n",
    "f = open(recognizerFile, \"wb\")\n",
    "f.write(pickle.dumps(recognizer))\n",
    "f.close()\n",
    "\n",
    "f = open(labelEncFile, \"wb\")\n",
    "f.write(pickle.dumps(labelEnc))\n",
    "f.close()\n"
   ]
  },
  {
   "cell_type": "code",
   "execution_count": null,
   "metadata": {},
   "outputs": [],
   "source": []
  }
 ],
 "metadata": {
  "kernelspec": {
   "display_name": "Python 3",
   "language": "python",
   "name": "python3"
  },
  "language_info": {
   "codemirror_mode": {
    "name": "ipython",
    "version": 3
   },
   "file_extension": ".py",
   "mimetype": "text/x-python",
   "name": "python",
   "nbconvert_exporter": "python",
   "pygments_lexer": "ipython3",
   "version": "3.8.5"
  }
 },
 "nbformat": 4,
 "nbformat_minor": 4
}
